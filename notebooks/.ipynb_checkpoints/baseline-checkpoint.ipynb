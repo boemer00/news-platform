{
 "cells": [
  {
   "cell_type": "markdown",
   "id": "e7256cb4",
   "metadata": {},
   "source": [
    "# Data Preparation"
   ]
  },
  {
   "cell_type": "markdown",
   "id": "304a3b71",
   "metadata": {},
   "source": [
    "## Load & Imports"
   ]
  },
  {
   "cell_type": "code",
   "execution_count": 27,
   "id": "b7c63a54",
   "metadata": {},
   "outputs": [],
   "source": [
    "# data manipulation and analysis libraries\n",
    "import pandas as pd\n",
    "import numpy as np\n",
    "import pickle\n",
    "import zipfile\n",
    "from math import log2\n",
    "from datetime import datetime, timedelta\n",
    "\n",
    "# data viz\n",
    "import seaborn as sns\n",
    "import matplotlib.pyplot as plt\n",
    "from statsmodels.distributions.empirical_distribution import ECDF\n",
    "\n",
    "# handling data\n",
    "from sklearn.preprocessing import normalize\n",
    "from sklearn.preprocessing import LabelEncoder\n",
    "from sklearn.preprocessing import StandardScaler\n",
    "\n",
    "# recommendation system algorithms\n",
    "import implicit\n",
    "import xgboost as xgb\n",
    "from sklearn.neighbors import NearestNeighbors\n",
    "from sklearn.model_selection import train_test_split\n",
    "\n",
    "# similarity metrics\n",
    "from sklearn.metrics.pairwise import cosine_similarity\n",
    "\n",
    "# other libraries\n",
    "import os\n",
    "from tqdm import tqdm\n",
    "from joblib import Parallel, delayed\n",
    "from imblearn.over_sampling import SMOTE\n",
    "\n",
    "# set OpenBLAS to use a single thread\n",
    "os.environ['OPENBLAS_NUM_THREADS'] = '1'"
   ]
  },
  {
   "cell_type": "code",
   "execution_count": 2,
   "id": "6600c226",
   "metadata": {},
   "outputs": [
    {
     "name": "stdout",
     "output_type": "stream",
     "text": [
      "file paths OK\n"
     ]
    }
   ],
   "source": [
    "# File paths\n",
    "metadata_path = '/Users/renatoboemer/code/developer/news_platform/raw_data/articles_metadata.csv'\n",
    "embeddings_path = '/Users/renatoboemer/code/developer/news_platform/raw_data/articles_embeddings.pickle'\n",
    "clicks_path = '/Users/renatoboemer/code/developer/news_platform/raw_data/clicks.zip'\n",
    "print('file paths OK')"
   ]
  },
  {
   "cell_type": "code",
   "execution_count": 3,
   "id": "05e3a93a",
   "metadata": {},
   "outputs": [
    {
     "name": "stdout",
     "output_type": "stream",
     "text": [
      "article_metadata shape: (364047, 5)\n",
      "clicks shape: (909070, 12)\n",
      "loading data OK\n"
     ]
    }
   ],
   "source": [
    "# load article metadata\n",
    "article_metadata = pd.read_csv(metadata_path)\n",
    "print(f'article_metadata shape: {article_metadata.shape}')\n",
    "\n",
    "with open(embeddings_path, 'rb') as f:\n",
    "    article_embeddings = pickle.load(f)\n",
    "\n",
    "# load encoding as csv\n",
    "def read_csv_with_multiple_encodings(file):\n",
    "    encodings = ['utf-8', 'latin1', 'iso-8859-1']\n",
    "    for encoding in encodings:\n",
    "        return pd.read_csv(file, encoding=encoding)\n",
    "\n",
    "# load clicks\n",
    "clicks = []\n",
    "with zipfile.ZipFile(clicks_path, 'r') as z:\n",
    "    for filename in z.namelist():\n",
    "        if not filename.endswith('.csv') or filename.startswith('__MACOSX'):\n",
    "            continue\n",
    "        with z.open(filename) as f:\n",
    "            try:\n",
    "                df = read_csv_with_multiple_encodings(f)\n",
    "                clicks.append(df)\n",
    "            except (pd.errors.EmptyDataError, UnicodeDecodeError) as e:\n",
    "                print(f\"File skipped: {filename}, Error: {e}\")\n",
    "\n",
    "clicks = pd.concat(clicks, ignore_index=True)\n",
    "print(f'clicks shape: {clicks.shape}')\n",
    "\n",
    "print('loading data OK')"
   ]
  },
  {
   "cell_type": "markdown",
   "id": "9f2e7456",
   "metadata": {},
   "source": [
    "## Article Metadata"
   ]
  },
  {
   "cell_type": "markdown",
   "id": "9c2a3cdf",
   "metadata": {},
   "source": [
    "### Missing Values & Outliers"
   ]
  },
  {
   "cell_type": "code",
   "execution_count": 4,
   "id": "6a8d1c1c",
   "metadata": {},
   "outputs": [
    {
     "name": "stdout",
     "output_type": "stream",
     "text": [
      "<class 'pandas.core.frame.DataFrame'>\n",
      "RangeIndex: 364047 entries, 0 to 364046\n",
      "Data columns (total 5 columns):\n",
      " #   Column         Non-Null Count   Dtype\n",
      "---  ------         --------------   -----\n",
      " 0   article_id     364047 non-null  int64\n",
      " 1   category_id    364047 non-null  int64\n",
      " 2   created_at_ts  364047 non-null  int64\n",
      " 3   publisher_id   364047 non-null  int64\n",
      " 4   words_count    364047 non-null  int64\n",
      "dtypes: int64(5)\n",
      "memory usage: 13.9 MB\n"
     ]
    }
   ],
   "source": [
    "article_metadata.info()"
   ]
  },
  {
   "cell_type": "markdown",
   "id": "0d6689f9",
   "metadata": {},
   "source": [
    "Based on the information above there are no missing values.\n",
    "\n",
    "Let's now prioritise recommending recent news articles.\n",
    "\n",
    "*Why is this important?*\n",
    "\n",
    "News feeds can enhance their relevance to users by suggesting articles they haven't encountered before. The older an article is, the greater the chance the user has already read it (either in our platform or in another one).  By focusing on more recent content, we can significantly improve the odds of recommending articles that capture the user's interest, ultimately leading to an increase in both CTR and dwell time."
   ]
  },
  {
   "cell_type": "code",
   "execution_count": 5,
   "id": "a3444887",
   "metadata": {},
   "outputs": [],
   "source": [
    "# create a copy of the original data\n",
    "df = article_metadata.copy()"
   ]
  },
  {
   "cell_type": "code",
   "execution_count": 6,
   "id": "ac2f35f3",
   "metadata": {},
   "outputs": [
    {
     "data": {
      "text/html": [
       "<div>\n",
       "<style scoped>\n",
       "    .dataframe tbody tr th:only-of-type {\n",
       "        vertical-align: middle;\n",
       "    }\n",
       "\n",
       "    .dataframe tbody tr th {\n",
       "        vertical-align: top;\n",
       "    }\n",
       "\n",
       "    .dataframe thead th {\n",
       "        text-align: right;\n",
       "    }\n",
       "</style>\n",
       "<table border=\"1\" class=\"dataframe\">\n",
       "  <thead>\n",
       "    <tr style=\"text-align: right;\">\n",
       "      <th></th>\n",
       "      <th>article_id</th>\n",
       "      <th>category_id</th>\n",
       "      <th>created_at_ts</th>\n",
       "      <th>publisher_id</th>\n",
       "      <th>words_count</th>\n",
       "    </tr>\n",
       "  </thead>\n",
       "  <tbody>\n",
       "    <tr>\n",
       "      <th>0</th>\n",
       "      <td>0</td>\n",
       "      <td>0</td>\n",
       "      <td>1513144419000</td>\n",
       "      <td>0</td>\n",
       "      <td>168</td>\n",
       "    </tr>\n",
       "    <tr>\n",
       "      <th>1</th>\n",
       "      <td>1</td>\n",
       "      <td>1</td>\n",
       "      <td>1405341936000</td>\n",
       "      <td>0</td>\n",
       "      <td>189</td>\n",
       "    </tr>\n",
       "    <tr>\n",
       "      <th>2</th>\n",
       "      <td>2</td>\n",
       "      <td>1</td>\n",
       "      <td>1408667706000</td>\n",
       "      <td>0</td>\n",
       "      <td>250</td>\n",
       "    </tr>\n",
       "  </tbody>\n",
       "</table>\n",
       "</div>"
      ],
      "text/plain": [
       "   article_id  category_id  created_at_ts  publisher_id  words_count\n",
       "0           0            0  1513144419000             0          168\n",
       "1           1            1  1405341936000             0          189\n",
       "2           2            1  1408667706000             0          250"
      ]
     },
     "execution_count": 6,
     "metadata": {},
     "output_type": "execute_result"
    }
   ],
   "source": [
    "df.head(3)"
   ]
  },
  {
   "cell_type": "markdown",
   "id": "3e0cca4b",
   "metadata": {},
   "source": [
    "It looks like `created_at_ts` values are in millisenconds (e.g. 1513144419000). Assuming that timestamps are in milliseconds, let's convert it to seconds and then apply `pd.to_datetime` method before capping old articles."
   ]
  },
  {
   "cell_type": "code",
   "execution_count": 7,
   "id": "d412120a",
   "metadata": {},
   "outputs": [
    {
     "data": {
      "text/html": [
       "<div>\n",
       "<style scoped>\n",
       "    .dataframe tbody tr th:only-of-type {\n",
       "        vertical-align: middle;\n",
       "    }\n",
       "\n",
       "    .dataframe tbody tr th {\n",
       "        vertical-align: top;\n",
       "    }\n",
       "\n",
       "    .dataframe thead th {\n",
       "        text-align: right;\n",
       "    }\n",
       "</style>\n",
       "<table border=\"1\" class=\"dataframe\">\n",
       "  <thead>\n",
       "    <tr style=\"text-align: right;\">\n",
       "      <th></th>\n",
       "      <th>article_id</th>\n",
       "      <th>category_id</th>\n",
       "      <th>created_at_ts</th>\n",
       "      <th>publisher_id</th>\n",
       "      <th>words_count</th>\n",
       "      <th>created_at_ts_in_seconds</th>\n",
       "      <th>created_at</th>\n",
       "    </tr>\n",
       "  </thead>\n",
       "  <tbody>\n",
       "    <tr>\n",
       "      <th>0</th>\n",
       "      <td>0</td>\n",
       "      <td>0</td>\n",
       "      <td>1513144419000</td>\n",
       "      <td>0</td>\n",
       "      <td>168</td>\n",
       "      <td>1.513144e+09</td>\n",
       "      <td>2017-12-13 05:53:39</td>\n",
       "    </tr>\n",
       "    <tr>\n",
       "      <th>1</th>\n",
       "      <td>1</td>\n",
       "      <td>1</td>\n",
       "      <td>1405341936000</td>\n",
       "      <td>0</td>\n",
       "      <td>189</td>\n",
       "      <td>1.405342e+09</td>\n",
       "      <td>2014-07-14 12:45:36</td>\n",
       "    </tr>\n",
       "    <tr>\n",
       "      <th>2</th>\n",
       "      <td>2</td>\n",
       "      <td>1</td>\n",
       "      <td>1408667706000</td>\n",
       "      <td>0</td>\n",
       "      <td>250</td>\n",
       "      <td>1.408668e+09</td>\n",
       "      <td>2014-08-22 00:35:06</td>\n",
       "    </tr>\n",
       "    <tr>\n",
       "      <th>3</th>\n",
       "      <td>3</td>\n",
       "      <td>1</td>\n",
       "      <td>1408468313000</td>\n",
       "      <td>0</td>\n",
       "      <td>230</td>\n",
       "      <td>1.408468e+09</td>\n",
       "      <td>2014-08-19 17:11:53</td>\n",
       "    </tr>\n",
       "    <tr>\n",
       "      <th>4</th>\n",
       "      <td>4</td>\n",
       "      <td>1</td>\n",
       "      <td>1407071171000</td>\n",
       "      <td>0</td>\n",
       "      <td>162</td>\n",
       "      <td>1.407071e+09</td>\n",
       "      <td>2014-08-03 13:06:11</td>\n",
       "    </tr>\n",
       "  </tbody>\n",
       "</table>\n",
       "</div>"
      ],
      "text/plain": [
       "   article_id  category_id  created_at_ts  publisher_id  words_count  \\\n",
       "0           0            0  1513144419000             0          168   \n",
       "1           1            1  1405341936000             0          189   \n",
       "2           2            1  1408667706000             0          250   \n",
       "3           3            1  1408468313000             0          230   \n",
       "4           4            1  1407071171000             0          162   \n",
       "\n",
       "   created_at_ts_in_seconds          created_at  \n",
       "0              1.513144e+09 2017-12-13 05:53:39  \n",
       "1              1.405342e+09 2014-07-14 12:45:36  \n",
       "2              1.408668e+09 2014-08-22 00:35:06  \n",
       "3              1.408468e+09 2014-08-19 17:11:53  \n",
       "4              1.407071e+09 2014-08-03 13:06:11  "
      ]
     },
     "execution_count": 7,
     "metadata": {},
     "output_type": "execute_result"
    }
   ],
   "source": [
    "# Convert milliseconds to seconds\n",
    "df['created_at_ts_in_seconds'] = df['created_at_ts'] / 1000 \n",
    "\n",
    "df['created_at'] = pd.to_datetime(df['created_at_ts_in_seconds'], unit='s')\n",
    "df.head()"
   ]
  },
  {
   "cell_type": "markdown",
   "id": "26cccf6e",
   "metadata": {},
   "source": [
    "Let's check min and max dates."
   ]
  },
  {
   "cell_type": "code",
   "execution_count": 8,
   "id": "6dc99f46",
   "metadata": {},
   "outputs": [
    {
     "name": "stdout",
     "output_type": "stream",
     "text": [
      "min: 2006-09-27 11:14:35\n",
      "max: 2018-03-13 12:12:30\n"
     ]
    }
   ],
   "source": [
    "print(f'min: {df[\"created_at\"].min()}')\n",
    "print(f'max: {df[\"created_at\"].max()}')"
   ]
  },
  {
   "cell_type": "code",
   "execution_count": 9,
   "id": "a8fca82c",
   "metadata": {},
   "outputs": [],
   "source": [
    "# Extract the day from the 'created_at' datetime column\n",
    "df['created_at_day'] = df['created_at'].dt.day\n",
    "df['created_at_month'] = df['created_at'].dt.month\n",
    "df['created_at_year'] = df['created_at'].dt.year"
   ]
  },
  {
   "cell_type": "code",
   "execution_count": 10,
   "id": "9ef233e6",
   "metadata": {},
   "outputs": [
    {
     "data": {
      "image/png": "[encoded data removed]",
      "text/plain": [
       "<Figure size 1200x400 with 3 Axes>"
      ]
     },
     "metadata": {},
     "output_type": "display_data"
    }
   ],
   "source": [
    "# Create subplots for each feature\n",
    "sns.set_style(\"whitegrid\")\n",
    "fig, (ax1, ax2, ax3) = plt.subplots(1, 3, figsize=(12, 4))\n",
    "\n",
    "# Plot histograms for each feature\n",
    "ax1.hist(df['created_at_day'])\n",
    "ax1.set_xlabel('Days of the Month')\n",
    "ax1.set_ylabel('Frequency')\n",
    "ax1.set_title('Distribution of Article Creation by Day')\n",
    "\n",
    "ax2.hist(df['created_at_month'])\n",
    "ax2.set_xlabel('Month')\n",
    "ax2.set_ylabel('Frequency')\n",
    "ax2.set_title('Distribution of Article Creation by Month')\n",
    "\n",
    "ax3.hist(df['created_at_year'])\n",
    "ax3.set_xlabel('Year')\n",
    "ax3.set_ylabel('Frequency')\n",
    "ax3.set_title('Distribution of Article Creation by Year')\n",
    "\n",
    "# Adjust layout\n",
    "plt.tight_layout();"
   ]
  },
  {
   "cell_type": "markdown",
   "id": "39fb919e",
   "metadata": {},
   "source": [
    "**Initial Assumptions:**\n",
    "\n",
    "- We will pretend that 'today' is the max date \n",
    "- Articles older than a week (7 days) are considered 'old', and therefore, not so relevant and potentially a lower CTR.\n",
    "\n",
    "\n",
    "Then let's check the final number of articles"
   ]
  },
  {
   "cell_type": "code",
   "execution_count": 11,
   "id": "d0f25b13",
   "metadata": {},
   "outputs": [
    {
     "data": {
      "text/html": [
       "<div>\n",
       "<style scoped>\n",
       "    .dataframe tbody tr th:only-of-type {\n",
       "        vertical-align: middle;\n",
       "    }\n",
       "\n",
       "    .dataframe tbody tr th {\n",
       "        vertical-align: top;\n",
       "    }\n",
       "\n",
       "    .dataframe thead th {\n",
       "        text-align: right;\n",
       "    }\n",
       "</style>\n",
       "<table border=\"1\" class=\"dataframe\">\n",
       "  <thead>\n",
       "    <tr style=\"text-align: right;\">\n",
       "      <th></th>\n",
       "      <th>article_id</th>\n",
       "      <th>category_id</th>\n",
       "      <th>created_at_ts</th>\n",
       "      <th>publisher_id</th>\n",
       "      <th>words_count</th>\n",
       "      <th>created_at_ts_in_seconds</th>\n",
       "      <th>created_at</th>\n",
       "      <th>created_at_day</th>\n",
       "      <th>created_at_month</th>\n",
       "      <th>created_at_year</th>\n",
       "    </tr>\n",
       "  </thead>\n",
       "  <tbody>\n",
       "    <tr>\n",
       "      <th>0</th>\n",
       "      <td>0</td>\n",
       "      <td>0</td>\n",
       "      <td>1513144419000</td>\n",
       "      <td>0</td>\n",
       "      <td>168</td>\n",
       "      <td>1.513144e+09</td>\n",
       "      <td>2017-12-13 05:53:39</td>\n",
       "      <td>13</td>\n",
       "      <td>12</td>\n",
       "      <td>2017</td>\n",
       "    </tr>\n",
       "    <tr>\n",
       "      <th>1</th>\n",
       "      <td>1</td>\n",
       "      <td>1</td>\n",
       "      <td>1405341936000</td>\n",
       "      <td>0</td>\n",
       "      <td>189</td>\n",
       "      <td>1.405342e+09</td>\n",
       "      <td>2014-07-14 12:45:36</td>\n",
       "      <td>14</td>\n",
       "      <td>7</td>\n",
       "      <td>2014</td>\n",
       "    </tr>\n",
       "    <tr>\n",
       "      <th>2</th>\n",
       "      <td>2</td>\n",
       "      <td>1</td>\n",
       "      <td>1408667706000</td>\n",
       "      <td>0</td>\n",
       "      <td>250</td>\n",
       "      <td>1.408668e+09</td>\n",
       "      <td>2014-08-22 00:35:06</td>\n",
       "      <td>22</td>\n",
       "      <td>8</td>\n",
       "      <td>2014</td>\n",
       "    </tr>\n",
       "  </tbody>\n",
       "</table>\n",
       "</div>"
      ],
      "text/plain": [
       "   article_id  category_id  created_at_ts  publisher_id  words_count  \\\n",
       "0           0            0  1513144419000             0          168   \n",
       "1           1            1  1405341936000             0          189   \n",
       "2           2            1  1408667706000             0          250   \n",
       "\n",
       "   created_at_ts_in_seconds          created_at  created_at_day  \\\n",
       "0              1.513144e+09 2017-12-13 05:53:39              13   \n",
       "1              1.405342e+09 2014-07-14 12:45:36              14   \n",
       "2              1.408668e+09 2014-08-22 00:35:06              22   \n",
       "\n",
       "   created_at_month  created_at_year  \n",
       "0                12             2017  \n",
       "1                 7             2014  \n",
       "2                 8             2014  "
      ]
     },
     "execution_count": 11,
     "metadata": {},
     "output_type": "execute_result"
    }
   ],
   "source": [
    "df.head(3)"
   ]
  },
  {
   "cell_type": "code",
   "execution_count": 12,
   "id": "9eb6b01e",
   "metadata": {},
   "outputs": [
    {
     "data": {
      "text/html": [
       "<div>\n",
       "<style scoped>\n",
       "    .dataframe tbody tr th:only-of-type {\n",
       "        vertical-align: middle;\n",
       "    }\n",
       "\n",
       "    .dataframe tbody tr th {\n",
       "        vertical-align: top;\n",
       "    }\n",
       "\n",
       "    .dataframe thead th {\n",
       "        text-align: right;\n",
       "    }\n",
       "</style>\n",
       "<table border=\"1\" class=\"dataframe\">\n",
       "  <thead>\n",
       "    <tr style=\"text-align: right;\">\n",
       "      <th></th>\n",
       "      <th>article_id</th>\n",
       "      <th>category_id</th>\n",
       "      <th>publisher_id</th>\n",
       "      <th>words_count</th>\n",
       "      <th>created_at</th>\n",
       "    </tr>\n",
       "  </thead>\n",
       "  <tbody>\n",
       "    <tr>\n",
       "      <th>0</th>\n",
       "      <td>0</td>\n",
       "      <td>0</td>\n",
       "      <td>0</td>\n",
       "      <td>168</td>\n",
       "      <td>2017-12-13 05:53:39</td>\n",
       "    </tr>\n",
       "    <tr>\n",
       "      <th>1</th>\n",
       "      <td>1</td>\n",
       "      <td>1</td>\n",
       "      <td>0</td>\n",
       "      <td>189</td>\n",
       "      <td>2014-07-14 12:45:36</td>\n",
       "    </tr>\n",
       "    <tr>\n",
       "      <th>2</th>\n",
       "      <td>2</td>\n",
       "      <td>1</td>\n",
       "      <td>0</td>\n",
       "      <td>250</td>\n",
       "      <td>2014-08-22 00:35:06</td>\n",
       "    </tr>\n",
       "  </tbody>\n",
       "</table>\n",
       "</div>"
      ],
      "text/plain": [
       "   article_id  category_id  publisher_id  words_count          created_at\n",
       "0           0            0             0          168 2017-12-13 05:53:39\n",
       "1           1            1             0          189 2014-07-14 12:45:36\n",
       "2           2            1             0          250 2014-08-22 00:35:06"
      ]
     },
     "execution_count": 12,
     "metadata": {},
     "output_type": "execute_result"
    }
   ],
   "source": [
    "# drop unnecessary columns\n",
    "df = df.drop(columns=['created_at_day', 'created_at_month', 'created_at_year', 'created_at_ts', 'created_at_ts_in_seconds'])\n",
    "df.head(3)"
   ]
  },
  {
   "cell_type": "code",
   "execution_count": 13,
   "id": "3e8ddaf4",
   "metadata": {},
   "outputs": [
    {
     "name": "stdout",
     "output_type": "stream",
     "text": [
      "df filtered to include articles created after 2018-03-06 12:12:30\n",
      "length of the filtered df 1\n"
     ]
    }
   ],
   "source": [
    "# define a threshold for 'old' articles \n",
    "threshold_days = 7\n",
    "\n",
    "# calculate the date threshold for old articles\n",
    "threshold_date = df['created_at'].max() - timedelta(days=threshold_days)\n",
    "\n",
    "# filter articles based on the creation date\n",
    "df_filtered = df[df['created_at'] >= threshold_date]\n",
    "\n",
    "print(f'df filtered to include articles created after {threshold_date}')\n",
    "print(f'length of the filtered df {len(df_filtered)}')"
   ]
  },
  {
   "cell_type": "markdown",
   "id": "b66cc7ec",
   "metadata": {},
   "source": [
    "`NOTE` ------> A single article is not enough to run a recommendation system, so I will increase the data range to include articles published in the last 2 weeks (14 days)."
   ]
  },
  {
   "cell_type": "code",
   "execution_count": 14,
   "id": "2d567d83",
   "metadata": {},
   "outputs": [
    {
     "name": "stdout",
     "output_type": "stream",
     "text": [
      "df filtered to include articles created after 2018-02-27 12:12:30\n",
      "length of the filtered df 1494\n"
     ]
    }
   ],
   "source": [
    "# define a threshold for 'old' articles \n",
    "threshold_days = 14\n",
    "\n",
    "# calculate the date threshold for old articles\n",
    "threshold_date = df['created_at'].max() - timedelta(days=threshold_days)\n",
    "\n",
    "# filter articles based on the creation date\n",
    "df_filtered = df[df['created_at'] >= threshold_date]\n",
    "\n",
    "print(f'df filtered to include articles created after {threshold_date}')\n",
    "print(f'length of the filtered df {len(df_filtered)}')"
   ]
  },
  {
   "cell_type": "markdown",
   "id": "8383b544",
   "metadata": {},
   "source": [
    "Now, let's check for outliers using `word_count`. \n",
    "\n",
    "*Why?*\n",
    "Because news articles that have a very low word count suggest it is not informative. On the other end, articles that are too long might be fit for quick consumption. So, we will keep articles that are within a reasonable length. We aim to striking a balance between minimum level of information for a short reading time."
   ]
  },
  {
   "cell_type": "code",
   "execution_count": 15,
   "id": "30452815",
   "metadata": {},
   "outputs": [
    {
     "data": {
      "image/png": "[encoded data removed]",
      "text/plain": [
       "<Figure size 640x480 with 1 Axes>"
      ]
     },
     "metadata": {},
     "output_type": "display_data"
    }
   ],
   "source": [
    "plt.figure()\n",
    "plt.boxplot(df_filtered['words_count'])\n",
    "plt.xlabel('Word Count')\n",
    "plt.ylabel('Distribution')\n",
    "plt.title('Distribution of Word Count with Potential Outliers');"
   ]
  },
  {
   "cell_type": "code",
   "execution_count": 16,
   "id": "175a9266",
   "metadata": {},
   "outputs": [
    {
     "name": "stdout",
     "output_type": "stream",
     "text": [
      "original dataframe length: 364047\n",
      "Dataframe length after excluding datetime outliers: 1494\n",
      "Dataframe length after excluding word_count outliers: 36\n"
     ]
    }
   ],
   "source": [
    "# create a copy\n",
    "df_clean = df_filtered\n",
    "\n",
    "# calculate interquartile range (IQR)\n",
    "q1 = df_clean['words_count'].quantile(0.25)\n",
    "q3 = df_clean['words_count'].quantile(0.75)\n",
    "iqr = q3 - q1\n",
    "\n",
    "# define outlier thresholds\n",
    "outlier_threshold = 1.5 * iqr\n",
    "\n",
    "# calculate upper and lower bounds for capping\n",
    "upper_bound = q3 + outlier_threshold\n",
    "lower_bound = q1 - outlier_threshold\n",
    "\n",
    "# remove outliers\n",
    "df_clean = df_clean[~(df_clean['words_count'].between(lower_bound, upper_bound))]\n",
    "\n",
    "print(f'original dataframe length: {len(df)}')\n",
    "print(f'Dataframe length after excluding datetime outliers: {len(df_filtered)}')\n",
    "print(f'Dataframe length after excluding word_count outliers: {len(df_clean)}')"
   ]
  },
  {
   "cell_type": "code",
   "execution_count": 17,
   "id": "172663a9",
   "metadata": {},
   "outputs": [
    {
     "name": "stdout",
     "output_type": "stream",
     "text": [
      "<class 'pandas.core.frame.DataFrame'>\n",
      "Int64Index: 36 entries, 21911 to 354433\n",
      "Data columns (total 5 columns):\n",
      " #   Column        Non-Null Count  Dtype         \n",
      "---  ------        --------------  -----         \n",
      " 0   article_id    36 non-null     int64         \n",
      " 1   category_id   36 non-null     int64         \n",
      " 2   publisher_id  36 non-null     int64         \n",
      " 3   words_count   36 non-null     int64         \n",
      " 4   created_at    36 non-null     datetime64[ns]\n",
      "dtypes: datetime64[ns](1), int64(4)\n",
      "memory usage: 1.7 KB\n"
     ]
    }
   ],
   "source": [
    "df_clean.info()"
   ]
  },
  {
   "cell_type": "code",
   "execution_count": 18,
   "id": "00896413",
   "metadata": {},
   "outputs": [],
   "source": [
    "# convert column back to miliseconds so the recommendation system handles it without issue\n",
    "df_clean = df_clean.copy()\n",
    "\n",
    "df_clean.loc[:, 'created_at'] = df_clean['created_at'].astype('int64') // (10**6) * (10**3)"
   ]
  },
  {
   "cell_type": "markdown",
   "id": "309c93af",
   "metadata": {},
   "source": [
    "## Clicks"
   ]
  },
  {
   "cell_type": "markdown",
   "id": "aafbf88f",
   "metadata": {},
   "source": [
    "### Feature Engineer & Outliers"
   ]
  },
  {
   "cell_type": "code",
   "execution_count": 19,
   "id": "55377661",
   "metadata": {},
   "outputs": [
    {
     "name": "stdout",
     "output_type": "stream",
     "text": [
      "<class 'pandas.core.frame.DataFrame'>\n",
      "RangeIndex: 909070 entries, 0 to 909069\n",
      "Data columns (total 12 columns):\n",
      " #   Column               Non-Null Count   Dtype\n",
      "---  ------               --------------   -----\n",
      " 0   user_id              909070 non-null  int64\n",
      " 1   session_id           909070 non-null  int64\n",
      " 2   session_start        909070 non-null  int64\n",
      " 3   session_size         909070 non-null  int64\n",
      " 4   click_article_id     909070 non-null  int64\n",
      " 5   click_timestamp      909070 non-null  int64\n",
      " 6   click_environment    909070 non-null  int64\n",
      " 7   click_deviceGroup    909070 non-null  int64\n",
      " 8   click_os             909070 non-null  int64\n",
      " 9   click_country        909070 non-null  int64\n",
      " 10  click_region         909070 non-null  int64\n",
      " 11  click_referrer_type  909070 non-null  int64\n",
      "dtypes: int64(12)\n",
      "memory usage: 83.2 MB\n"
     ]
    }
   ],
   "source": [
    "clicks.info()"
   ]
  },
  {
   "cell_type": "code",
   "execution_count": 20,
   "id": "524347e5",
   "metadata": {},
   "outputs": [],
   "source": [
    "# create copy of clicks df for manipulation\n",
    "clicks_filtered = clicks.copy()"
   ]
  },
  {
   "cell_type": "markdown",
   "id": "8219de8e",
   "metadata": {},
   "source": [
    "The `time_diff` helps identify patterns indicating which articles or content pieces are capturing user interest quickly, suggesting the recommendation was more accurate."
   ]
  },
  {
   "cell_type": "code",
   "execution_count": 21,
   "id": "3b98dfd1",
   "metadata": {},
   "outputs": [],
   "source": [
    "# convert session_start and click_timestamp to datetime\n",
    "clicks_filtered['session_start'] = pd.to_datetime(clicks_filtered['session_start'], unit='ms')\n",
    "clicks_filtered['click_timestamp'] = pd.to_datetime(clicks_filtered['click_timestamp'], unit='ms')\n",
    "\n",
    "# difference between click_timestamp and session_start\n",
    "clicks_filtered['time_diff'] = (clicks_filtered['click_timestamp'] - clicks_filtered['session_start']).dt.total_seconds()\n"
   ]
  },
  {
   "cell_type": "code",
   "execution_count": 22,
   "id": "54bb2a01",
   "metadata": {},
   "outputs": [
    {
     "data": {
      "image/png": "[encoded data removed]",
      "text/plain": [
       "<Figure size 640x480 with 1 Axes>"
      ]
     },
     "metadata": {},
     "output_type": "display_data"
    }
   ],
   "source": [
    "# cumulative distribution\n",
    "ecdf = ECDF(clicks_filtered['time_diff'])\n",
    "plt.figure()\n",
    "plt.plot(ecdf.x, ecdf.y)\n",
    "plt.title('CDF of Time Differences (session_start vs click_timestamp)')\n",
    "plt.xlabel('Time Difference')\n",
    "plt.ylabel('Cumulative Probability');"
   ]
  },
  {
   "cell_type": "markdown",
   "id": "5ee2ec27",
   "metadata": {},
   "source": [
    "This `CDF` plot above indicates that in almost all sessions, clicks occur very soon after the session starts. There are very few sessions where the time difference between the session start and click is large. This implies a high level of engagement from users as soon as their session begins."
   ]
  },
  {
   "cell_type": "code",
   "execution_count": 23,
   "id": "71671d9d",
   "metadata": {},
   "outputs": [
    {
     "data": {
      "text/plain": [
       "240590"
      ]
     },
     "execution_count": 23,
     "metadata": {},
     "output_type": "execute_result"
    }
   ],
   "source": [
    "clicks_filtered = clicks_filtered[(clicks_filtered['time_diff'] >= lower_bound) & (clicks_filtered['time_diff'] <= upper_bound)]\n",
    "len(clicks_filtered)"
   ]
  },
  {
   "cell_type": "markdown",
   "id": "aa2a7691",
   "metadata": {},
   "source": [
    "### Handling Edge Cases"
   ]
  },
  {
   "cell_type": "code",
   "execution_count": 24,
   "id": "ae3269da",
   "metadata": {},
   "outputs": [
    {
     "data": {
      "text/plain": [
       "240590"
      ]
     },
     "execution_count": 24,
     "metadata": {},
     "output_type": "execute_result"
    }
   ],
   "source": [
    "# check for duplicated sessions\n",
    "len(clicks_filtered.drop_duplicates())"
   ]
  },
  {
   "cell_type": "code",
   "execution_count": 25,
   "id": "29a29666",
   "metadata": {},
   "outputs": [
    {
     "data": {
      "text/plain": [
       "0"
      ]
     },
     "execution_count": 25,
     "metadata": {},
     "output_type": "execute_result"
    }
   ],
   "source": [
    "# check for click timestamp before session starts (out of order) \n",
    "out_of_order = clicks_filtered[clicks_filtered['click_timestamp'] < clicks_filtered['session_start']]\n",
    "len(out_of_order)"
   ]
  },
  {
   "cell_type": "code",
   "execution_count": 26,
   "id": "3686edf9",
   "metadata": {},
   "outputs": [
    {
     "data": {
      "text/plain": [
       "0"
      ]
     },
     "execution_count": 26,
     "metadata": {},
     "output_type": "execute_result"
    }
   ],
   "source": [
    "# check for zero time differences\n",
    "zero_time_diff = clicks_filtered[clicks_filtered['click_timestamp'] == clicks_filtered['session_start']]\n",
    "len(zero_time_diff)"
   ]
  },
  {
   "cell_type": "code",
   "execution_count": 27,
   "id": "d8ef8745",
   "metadata": {},
   "outputs": [
    {
     "name": "stdout",
     "output_type": "stream",
     "text": [
      "Original clicks dataframe length: 909070\n",
      "Dataframe length after removing outliers: 240590\n"
     ]
    }
   ],
   "source": [
    "print(f'Original clicks dataframe length: {len(clicks)}')\n",
    "print(f'Dataframe length after removing outliers: {len(clicks_filtered)}')"
   ]
  },
  {
   "cell_type": "markdown",
   "id": "2881caae",
   "metadata": {},
   "source": [
    "## Remove unnecessary columns for ranking"
   ]
  },
  {
   "cell_type": "code",
   "execution_count": 28,
   "id": "6c8a4bf0",
   "metadata": {},
   "outputs": [
    {
     "data": {
      "text/html": [
       "<div>\n",
       "<style scoped>\n",
       "    .dataframe tbody tr th:only-of-type {\n",
       "        vertical-align: middle;\n",
       "    }\n",
       "\n",
       "    .dataframe tbody tr th {\n",
       "        vertical-align: top;\n",
       "    }\n",
       "\n",
       "    .dataframe thead th {\n",
       "        text-align: right;\n",
       "    }\n",
       "</style>\n",
       "<table border=\"1\" class=\"dataframe\">\n",
       "  <thead>\n",
       "    <tr style=\"text-align: right;\">\n",
       "      <th></th>\n",
       "      <th>user_id</th>\n",
       "      <th>session_size</th>\n",
       "      <th>click_article_id</th>\n",
       "      <th>click_timestamp</th>\n",
       "      <th>click_environment</th>\n",
       "      <th>click_deviceGroup</th>\n",
       "      <th>click_os</th>\n",
       "      <th>click_country</th>\n",
       "      <th>click_referrer_type</th>\n",
       "      <th>time_diff</th>\n",
       "    </tr>\n",
       "  </thead>\n",
       "  <tbody>\n",
       "    <tr>\n",
       "      <th>3</th>\n",
       "      <td>151074</td>\n",
       "      <td>2</td>\n",
       "      <td>207994</td>\n",
       "      <td>2017-10-04 04:38:41.496</td>\n",
       "      <td>4</td>\n",
       "      <td>3</td>\n",
       "      <td>2</td>\n",
       "      <td>1</td>\n",
       "      <td>2</td>\n",
       "      <td>111.496</td>\n",
       "    </tr>\n",
       "    <tr>\n",
       "      <th>4</th>\n",
       "      <td>151074</td>\n",
       "      <td>2</td>\n",
       "      <td>285095</td>\n",
       "      <td>2017-10-04 04:39:11.496</td>\n",
       "      <td>4</td>\n",
       "      <td>3</td>\n",
       "      <td>2</td>\n",
       "      <td>1</td>\n",
       "      <td>2</td>\n",
       "      <td>141.496</td>\n",
       "    </tr>\n",
       "    <tr>\n",
       "      <th>10</th>\n",
       "      <td>151075</td>\n",
       "      <td>4</td>\n",
       "      <td>235886</td>\n",
       "      <td>2017-10-04 04:40:11.933</td>\n",
       "      <td>4</td>\n",
       "      <td>3</td>\n",
       "      <td>2</td>\n",
       "      <td>1</td>\n",
       "      <td>1</td>\n",
       "      <td>159.933</td>\n",
       "    </tr>\n",
       "  </tbody>\n",
       "</table>\n",
       "</div>"
      ],
      "text/plain": [
       "    user_id  session_size  click_article_id         click_timestamp  \\\n",
       "3    151074             2            207994 2017-10-04 04:38:41.496   \n",
       "4    151074             2            285095 2017-10-04 04:39:11.496   \n",
       "10   151075             4            235886 2017-10-04 04:40:11.933   \n",
       "\n",
       "    click_environment  click_deviceGroup  click_os  click_country  \\\n",
       "3                   4                  3         2              1   \n",
       "4                   4                  3         2              1   \n",
       "10                  4                  3         2              1   \n",
       "\n",
       "    click_referrer_type  time_diff  \n",
       "3                     2    111.496  \n",
       "4                     2    141.496  \n",
       "10                    1    159.933  "
      ]
     },
     "execution_count": 28,
     "metadata": {},
     "output_type": "execute_result"
    }
   ],
   "source": [
    "clicks_filtered = clicks_filtered.drop(columns=['session_id', 'session_start', 'click_region'])\n",
    "clicks_filtered.head(3)"
   ]
  },
  {
   "cell_type": "markdown",
   "id": "dfffd87a",
   "metadata": {},
   "source": [
    "## Sampling for training"
   ]
  },
  {
   "cell_type": "code",
   "execution_count": 29,
   "id": "3e39a319",
   "metadata": {},
   "outputs": [
    {
     "data": {
      "text/plain": [
       "5809"
      ]
     },
     "execution_count": 29,
     "metadata": {},
     "output_type": "execute_result"
    }
   ],
   "source": [
    "clicks_filtered['click_article_id'].nunique()"
   ]
  },
  {
   "cell_type": "code",
   "execution_count": 30,
   "id": "1c25a785",
   "metadata": {},
   "outputs": [
    {
     "name": "stdout",
     "output_type": "stream",
     "text": [
      "<class 'pandas.core.frame.DataFrame'>\n",
      "Int64Index: 12030 entries, 854996 to 686612\n",
      "Data columns (total 10 columns):\n",
      " #   Column               Non-Null Count  Dtype         \n",
      "---  ------               --------------  -----         \n",
      " 0   user_id              12030 non-null  int64         \n",
      " 1   session_size         12030 non-null  int64         \n",
      " 2   click_article_id     12030 non-null  int64         \n",
      " 3   click_timestamp      12030 non-null  datetime64[ns]\n",
      " 4   click_environment    12030 non-null  int64         \n",
      " 5   click_deviceGroup    12030 non-null  int64         \n",
      " 6   click_os             12030 non-null  int64         \n",
      " 7   click_country        12030 non-null  int64         \n",
      " 8   click_referrer_type  12030 non-null  int64         \n",
      " 9   time_diff            12030 non-null  float64       \n",
      "dtypes: datetime64[ns](1), float64(1), int64(8)\n",
      "memory usage: 1.0 MB\n"
     ]
    }
   ],
   "source": [
    "clicks_testing = clicks_filtered.sample(frac=1, random_state=15).sample(frac=0.05, random_state=15)\n",
    "clicks_testing.info()"
   ]
  },
  {
   "cell_type": "markdown",
   "id": "692000d6",
   "metadata": {},
   "source": [
    "# Model"
   ]
  },
  {
   "cell_type": "markdown",
   "id": "cd6a959b",
   "metadata": {},
   "source": [
    "## Generate candidates - (Step 1)"
   ]
  },
  {
   "cell_type": "code",
   "execution_count": null,
   "id": "ee381b3c",
   "metadata": {},
   "outputs": [],
   "source": [
    "# preprocess the article metadata & embeddings\n",
    "# article_ids as int for indexing purposes\n",
    "article_metadata['article_id'] = article_metadata['article_id'].astype(int)\n",
    "\n",
    "# set article_id as the index for lookups\n",
    "article_metadata.set_index('article_id', inplace=True)\n",
    "\n",
    "print('Article metadata and embeddings loaded and preprocessed - OK')\n",
    "\n",
    "# normalise article embeddings to vectors for cosine similarity\n",
    "article_embeddings = normalize(article_embeddings)\n",
    "\n",
    "print('Article embeddings normalised - OK')"
   ]
  },
  {
   "cell_type": "code",
   "execution_count": 31,
   "id": "5c037c08",
   "metadata": {},
   "outputs": [
    {
     "name": "stdout",
     "output_type": "stream",
     "text": [
      "Article metadata and embeddings loaded and preprocessed - OK\n",
      "Article embeddings normalised - OK\n"
     ]
    }
   ],
   "source": [
    "# use nn for cosine similarity search\n",
    "nbrs = NearestNeighbors(n_neighbors=11, algorithm='auto', metric='cosine').fit(article_embeddings)\n",
    "\n",
    "# prepare cache to store results of lookups\n",
    "similar_articles_cache = {}\n",
    "\n",
    "# return the top N similar articles for a specific article_id\n",
    "def get_top_n_similar_articles(article_id, top_n=5):\n",
    "    if article_id in similar_articles_cache:\n",
    "        return similar_articles_cache[article_id]\n",
    "    \n",
    "    if article_id not in article_metadata.index:\n",
    "        raise ValueError(f'Article ID {article_id} not found in metadata.')\n",
    "    \n",
    "    # get the index of the article_id\n",
    "    article_idx = article_metadata.index.get_loc(article_id)\n",
    "    \n",
    "    # get the distances and indices of the top N+1 similar articles (include self)\n",
    "    distances, indices = nbrs.kneighbors(article_embeddings[article_idx].reshape(1, -1), n_neighbors=top_n+1)\n",
    "    \n",
    "    # skip the first index, which is itself, and get the top N indices\n",
    "    top_n_indices = indices.flatten()[1:top_n+1]\n",
    "    \n",
    "    # map indices back to article_ids\n",
    "    similar_article_ids = article_metadata.index[top_n_indices].tolist()\n",
    "    \n",
    "    # cache the result\n",
    "    similar_articles_cache[article_id] = similar_article_ids\n",
    "    \n",
    "    return similar_article_ids\n",
    "\n",
    "# batch processing function for multiple article IDs\n",
    "def get_top_n_similar_articles_batch(article_ids, top_n=5, n_jobs=-1):\n",
    "    results = Parallel(n_jobs=n_jobs)(delayed(get_top_n_similar_articles)(article_id, top_n) for article_id in article_ids)\n",
    "    return results"
   ]
  },
  {
   "cell_type": "code",
   "execution_count": 32,
   "id": "b7de7cc5",
   "metadata": {},
   "outputs": [
    {
     "name": "stdout",
     "output_type": "stream",
     "text": [
      "Top 3 similar articles for article 15151: [15910, 14216, 14255]\n"
     ]
    }
   ],
   "source": [
    "example_article_id = 15151\n",
    "\n",
    "top_similar_articles = get_top_n_similar_articles(example_article_id, top_n=3)\n",
    "print(f'Top 3 similar articles for article {example_article_id}: {top_similar_articles}') "
   ]
  },
  {
   "cell_type": "markdown",
   "id": "18f4bb30",
   "metadata": {},
   "source": [
    "## Ranking - (Step 2)"
   ]
  },
  {
   "cell_type": "code",
   "execution_count": 33,
   "id": "06bf3090",
   "metadata": {},
   "outputs": [],
   "source": [
    "# Function to generate candidate articles for each row\n",
    "def generate_candidates(row):\n",
    "    similar_articles = get_top_n_similar_articles(row['click_article_id'])\n",
    "    return [\n",
    "        {'user_id': row['user_id'],\n",
    "         'click_article_id': row['click_article_id'],\n",
    "         'candidate_article_id': article_id,\n",
    "         'clicked': 0}  # --> not clicked\n",
    "        for article_id in similar_articles\n",
    "    ]"
   ]
  },
  {
   "cell_type": "code",
   "execution_count": 34,
   "id": "f05f7d37",
   "metadata": {},
   "outputs": [
    {
     "name": "stderr",
     "output_type": "stream",
     "text": [
      "Generating candidate articles: 100%|██████| 12030/12030 [47:29<00:00,  4.22it/s]\n"
     ]
    }
   ],
   "source": [
    "# label clicked articles\n",
    "clicks_testing['clicked'] = 1  # --> clicked\n",
    "\n",
    "# find candidate articles for each clicked article (using parallel processing)\n",
    "results = Parallel(n_jobs=-1)(\n",
    "    delayed(generate_candidates)(row) for _, row in tqdm(clicks_testing.iterrows(),\n",
    "                                                         total=clicks_testing.shape[0],\n",
    "                                                         desc='Generating candidate articles')\n",
    ")"
   ]
  },
  {
   "cell_type": "code",
   "execution_count": 54,
   "id": "25520627",
   "metadata": {},
   "outputs": [],
   "source": [
    "# flatten the list of lists\n",
    "candidate_articles = [item for sublist in results for item in sublist]"
   ]
  },
  {
   "cell_type": "code",
   "execution_count": 158,
   "id": "9756dd67",
   "metadata": {},
   "outputs": [
    {
     "data": {
      "text/html": [
       "<div>\n",
       "<style scoped>\n",
       "    .dataframe tbody tr th:only-of-type {\n",
       "        vertical-align: middle;\n",
       "    }\n",
       "\n",
       "    .dataframe tbody tr th {\n",
       "        vertical-align: top;\n",
       "    }\n",
       "\n",
       "    .dataframe thead th {\n",
       "        text-align: right;\n",
       "    }\n",
       "</style>\n",
       "<table border=\"1\" class=\"dataframe\">\n",
       "  <thead>\n",
       "    <tr style=\"text-align: right;\">\n",
       "      <th></th>\n",
       "      <th>user_id</th>\n",
       "      <th>click_article_id</th>\n",
       "      <th>candidate_article_id</th>\n",
       "      <th>clicked</th>\n",
       "    </tr>\n",
       "  </thead>\n",
       "  <tbody>\n",
       "    <tr>\n",
       "      <th>0</th>\n",
       "      <td>107051</td>\n",
       "      <td>64329</td>\n",
       "      <td>356361</td>\n",
       "      <td>0</td>\n",
       "    </tr>\n",
       "    <tr>\n",
       "      <th>1</th>\n",
       "      <td>107051</td>\n",
       "      <td>64329</td>\n",
       "      <td>156690</td>\n",
       "      <td>0</td>\n",
       "    </tr>\n",
       "    <tr>\n",
       "      <th>2</th>\n",
       "      <td>107051</td>\n",
       "      <td>64329</td>\n",
       "      <td>211944</td>\n",
       "      <td>0</td>\n",
       "    </tr>\n",
       "  </tbody>\n",
       "</table>\n",
       "</div>"
      ],
      "text/plain": [
       "   user_id  click_article_id  candidate_article_id  clicked\n",
       "0   107051             64329                356361        0\n",
       "1   107051             64329                156690        0\n",
       "2   107051             64329                211944        0"
      ]
     },
     "execution_count": 158,
     "metadata": {},
     "output_type": "execute_result"
    }
   ],
   "source": [
    "# convert to DataFrame\n",
    "candidate_df = pd.DataFrame(candidate_articles)\n",
    "candidate_df.head(3)"
   ]
  },
  {
   "cell_type": "code",
   "execution_count": 161,
   "id": "9ca3353d",
   "metadata": {},
   "outputs": [
    {
     "data": {
      "text/plain": [
       "60150"
      ]
     },
     "execution_count": 161,
     "metadata": {},
     "output_type": "execute_result"
    }
   ],
   "source": [
    "len(candidate_df)"
   ]
  },
  {
   "cell_type": "code",
   "execution_count": 56,
   "id": "9e30bb14",
   "metadata": {},
   "outputs": [],
   "source": [
    "# candidate_df.to_csv('candidate_df.csv')"
   ]
  },
  {
   "cell_type": "code",
   "execution_count": 180,
   "id": "e49ef9e2",
   "metadata": {},
   "outputs": [],
   "source": [
    "# Assuming 'click_article_id' is the article ID in both DataFrames\n",
    "clicked_article_ids = clicked_articles['click_article_id'].tolist()  # Get list of clicked article IDs\n",
    "filtered_candidate_df = candidate_df[candidate_df['candidate_article_id'].isin(clicked_article_ids)]\n",
    "\n",
    "# Now merge the filtered candidate_df with clicked_articles\n",
    "ranking_data = filtered_candidate_df.merge(clicked_articles, how='left', on=['user_id', 'candidate_article_id'])"
   ]
  },
  {
   "cell_type": "code",
   "execution_count": 181,
   "id": "2ea32a72",
   "metadata": {},
   "outputs": [
    {
     "data": {
      "text/html": [
       "<div>\n",
       "<style scoped>\n",
       "    .dataframe tbody tr th:only-of-type {\n",
       "        vertical-align: middle;\n",
       "    }\n",
       "\n",
       "    .dataframe tbody tr th {\n",
       "        vertical-align: top;\n",
       "    }\n",
       "\n",
       "    .dataframe thead th {\n",
       "        text-align: right;\n",
       "    }\n",
       "</style>\n",
       "<table border=\"1\" class=\"dataframe\">\n",
       "  <thead>\n",
       "    <tr style=\"text-align: right;\">\n",
       "      <th></th>\n",
       "      <th>user_id</th>\n",
       "      <th>click_article_id_x</th>\n",
       "      <th>candidate_article_id</th>\n",
       "      <th>clicked_x</th>\n",
       "      <th>click_article_id_y</th>\n",
       "      <th>clicked_y</th>\n",
       "    </tr>\n",
       "  </thead>\n",
       "  <tbody>\n",
       "    <tr>\n",
       "      <th>0</th>\n",
       "      <td>107051</td>\n",
       "      <td>64329</td>\n",
       "      <td>160132</td>\n",
       "      <td>0</td>\n",
       "      <td>NaN</td>\n",
       "      <td>NaN</td>\n",
       "    </tr>\n",
       "    <tr>\n",
       "      <th>1</th>\n",
       "      <td>76952</td>\n",
       "      <td>300470</td>\n",
       "      <td>298639</td>\n",
       "      <td>0</td>\n",
       "      <td>NaN</td>\n",
       "      <td>NaN</td>\n",
       "    </tr>\n",
       "    <tr>\n",
       "      <th>2</th>\n",
       "      <td>76952</td>\n",
       "      <td>300470</td>\n",
       "      <td>300076</td>\n",
       "      <td>0</td>\n",
       "      <td>NaN</td>\n",
       "      <td>NaN</td>\n",
       "    </tr>\n",
       "  </tbody>\n",
       "</table>\n",
       "</div>"
      ],
      "text/plain": [
       "   user_id  click_article_id_x  candidate_article_id  clicked_x  \\\n",
       "0   107051               64329                160132          0   \n",
       "1    76952              300470                298639          0   \n",
       "2    76952              300470                300076          0   \n",
       "\n",
       "   click_article_id_y  clicked_y  \n",
       "0                 NaN        NaN  \n",
       "1                 NaN        NaN  \n",
       "2                 NaN        NaN  "
      ]
     },
     "execution_count": 181,
     "metadata": {},
     "output_type": "execute_result"
    }
   ],
   "source": [
    "ranking_data.head(3)"
   ]
  },
  {
   "cell_type": "code",
   "execution_count": 182,
   "id": "52bbea9e",
   "metadata": {},
   "outputs": [
    {
     "data": {
      "text/plain": [
       "array([nan,  1.])"
      ]
     },
     "execution_count": 182,
     "metadata": {},
     "output_type": "execute_result"
    }
   ],
   "source": [
    "ranking_data['clicked_y'].unique()"
   ]
  },
  {
   "cell_type": "code",
   "execution_count": 183,
   "id": "246b54e3",
   "metadata": {},
   "outputs": [],
   "source": [
    "ranking_data['clicked'] = ranking_data['clicked_y'].fillna(0)\n"
   ]
  },
  {
   "cell_type": "code",
   "execution_count": 184,
   "id": "3114d253",
   "metadata": {},
   "outputs": [],
   "source": [
    "ranking_data['click_article_id'] = ranking_data['click_article_id_y'].fillna(ranking_data['click_article_id_x'])\n"
   ]
  },
  {
   "cell_type": "code",
   "execution_count": 185,
   "id": "9f032232",
   "metadata": {},
   "outputs": [],
   "source": [
    "ranking_data['click_article_id'] = ranking_data['click_article_id'].astype(int)"
   ]
  },
  {
   "cell_type": "code",
   "execution_count": 186,
   "id": "354b2b15",
   "metadata": {},
   "outputs": [
    {
     "data": {
      "text/plain": [
       "0"
      ]
     },
     "execution_count": 186,
     "metadata": {},
     "output_type": "execute_result"
    }
   ],
   "source": [
    "ranking_data['click_article_id'].isnull().sum()"
   ]
  },
  {
   "cell_type": "code",
   "execution_count": 187,
   "id": "9b4293b8",
   "metadata": {},
   "outputs": [
    {
     "data": {
      "text/plain": [
       "array([0., 1.])"
      ]
     },
     "execution_count": 187,
     "metadata": {},
     "output_type": "execute_result"
    }
   ],
   "source": [
    "ranking_data['clicked'].unique()"
   ]
  },
  {
   "cell_type": "code",
   "execution_count": 190,
   "id": "95dbb64f",
   "metadata": {},
   "outputs": [],
   "source": [
    "ranking_data['clicked'] = ranking_data['clicked'].astype(int)"
   ]
  },
  {
   "cell_type": "code",
   "execution_count": 188,
   "id": "902de585",
   "metadata": {},
   "outputs": [],
   "source": [
    "ranking_data = ranking_data.drop(columns=['click_article_id_x', 'clicked_x', 'click_article_id_y', 'clicked_y'])"
   ]
  },
  {
   "cell_type": "code",
   "execution_count": 191,
   "id": "cd0837d4",
   "metadata": {},
   "outputs": [
    {
     "name": "stdout",
     "output_type": "stream",
     "text": [
      "<class 'pandas.core.frame.DataFrame'>\n",
      "Int64Index: 9377 entries, 0 to 9376\n",
      "Data columns (total 4 columns):\n",
      " #   Column                Non-Null Count  Dtype\n",
      "---  ------                --------------  -----\n",
      " 0   user_id               9377 non-null   int64\n",
      " 1   candidate_article_id  9377 non-null   int64\n",
      " 2   clicked               9377 non-null   int64\n",
      " 3   click_article_id      9377 non-null   int64\n",
      "dtypes: int64(4)\n",
      "memory usage: 366.3 KB\n"
     ]
    }
   ],
   "source": [
    "ranking_data.info()"
   ]
  },
  {
   "cell_type": "code",
   "execution_count": 192,
   "id": "b51e83e0",
   "metadata": {},
   "outputs": [
    {
     "name": "stdout",
     "output_type": "stream",
     "text": [
      "Missing features: ['click_environment', 'click_deviceGroup', 'click_os', 'click_country', 'click_referrer_type']\n"
     ]
    }
   ],
   "source": [
    "# prepare features and label\n",
    "features = ['user_id', 'click_article_id', 'candidate_article_id',\n",
    "            'click_environment', 'click_deviceGroup', 'click_os', \n",
    "            'click_country', 'click_referrer_type']\n",
    "\n",
    "# check features that are missing in the ranking_data\n",
    "missing_features = [feature for feature in features if feature not in ranking_data.columns]\n",
    "print(f'Missing features: {missing_features}')"
   ]
  },
  {
   "cell_type": "code",
   "execution_count": 193,
   "id": "4fc4fb0a",
   "metadata": {},
   "outputs": [],
   "source": [
    "# use multiple keys for merging\n",
    "composite_key = ['user_id', 'click_article_id']\n",
    "\n",
    "# merge using multiple keys\n",
    "ranking_data = ranking_data.merge(clicks_testing, how='left', on=composite_key)"
   ]
  },
  {
   "cell_type": "code",
   "execution_count": 195,
   "id": "623c6a82",
   "metadata": {},
   "outputs": [
    {
     "name": "stdout",
     "output_type": "stream",
     "text": [
      "Missing features: []\n"
     ]
    }
   ],
   "source": [
    "missing_features = [feature for feature in features if feature not in ranking_data.columns]\n",
    "print(f'Missing features: {missing_features}')"
   ]
  },
  {
   "cell_type": "code",
   "execution_count": 196,
   "id": "43aa19f3",
   "metadata": {},
   "outputs": [
    {
     "data": {
      "text/html": [
       "<div>\n",
       "<style scoped>\n",
       "    .dataframe tbody tr th:only-of-type {\n",
       "        vertical-align: middle;\n",
       "    }\n",
       "\n",
       "    .dataframe tbody tr th {\n",
       "        vertical-align: top;\n",
       "    }\n",
       "\n",
       "    .dataframe thead th {\n",
       "        text-align: right;\n",
       "    }\n",
       "</style>\n",
       "<table border=\"1\" class=\"dataframe\">\n",
       "  <thead>\n",
       "    <tr style=\"text-align: right;\">\n",
       "      <th></th>\n",
       "      <th>user_id</th>\n",
       "      <th>candidate_article_id</th>\n",
       "      <th>clicked_x</th>\n",
       "      <th>click_article_id</th>\n",
       "      <th>session_size</th>\n",
       "      <th>click_timestamp</th>\n",
       "      <th>click_environment</th>\n",
       "      <th>click_deviceGroup</th>\n",
       "      <th>click_os</th>\n",
       "      <th>click_country</th>\n",
       "      <th>click_referrer_type</th>\n",
       "      <th>time_diff</th>\n",
       "      <th>clicked_y</th>\n",
       "    </tr>\n",
       "  </thead>\n",
       "  <tbody>\n",
       "    <tr>\n",
       "      <th>0</th>\n",
       "      <td>107051</td>\n",
       "      <td>160132</td>\n",
       "      <td>0</td>\n",
       "      <td>64329</td>\n",
       "      <td>2</td>\n",
       "      <td>2017-10-02 23:40:15.835</td>\n",
       "      <td>4</td>\n",
       "      <td>1</td>\n",
       "      <td>17</td>\n",
       "      <td>1</td>\n",
       "      <td>2</td>\n",
       "      <td>197.835</td>\n",
       "      <td>1</td>\n",
       "    </tr>\n",
       "    <tr>\n",
       "      <th>1</th>\n",
       "      <td>76952</td>\n",
       "      <td>298639</td>\n",
       "      <td>0</td>\n",
       "      <td>300470</td>\n",
       "      <td>9</td>\n",
       "      <td>2017-10-02 16:34:07.282</td>\n",
       "      <td>4</td>\n",
       "      <td>1</td>\n",
       "      <td>17</td>\n",
       "      <td>1</td>\n",
       "      <td>1</td>\n",
       "      <td>265.282</td>\n",
       "      <td>1</td>\n",
       "    </tr>\n",
       "    <tr>\n",
       "      <th>2</th>\n",
       "      <td>76952</td>\n",
       "      <td>300076</td>\n",
       "      <td>0</td>\n",
       "      <td>300470</td>\n",
       "      <td>9</td>\n",
       "      <td>2017-10-02 16:34:07.282</td>\n",
       "      <td>4</td>\n",
       "      <td>1</td>\n",
       "      <td>17</td>\n",
       "      <td>1</td>\n",
       "      <td>1</td>\n",
       "      <td>265.282</td>\n",
       "      <td>1</td>\n",
       "    </tr>\n",
       "  </tbody>\n",
       "</table>\n",
       "</div>"
      ],
      "text/plain": [
       "   user_id  candidate_article_id  clicked_x  click_article_id  session_size  \\\n",
       "0   107051                160132          0             64329             2   \n",
       "1    76952                298639          0            300470             9   \n",
       "2    76952                300076          0            300470             9   \n",
       "\n",
       "          click_timestamp  click_environment  click_deviceGroup  click_os  \\\n",
       "0 2017-10-02 23:40:15.835                  4                  1        17   \n",
       "1 2017-10-02 16:34:07.282                  4                  1        17   \n",
       "2 2017-10-02 16:34:07.282                  4                  1        17   \n",
       "\n",
       "   click_country  click_referrer_type  time_diff  clicked_y  \n",
       "0              1                    2    197.835          1  \n",
       "1              1                    1    265.282          1  \n",
       "2              1                    1    265.282          1  "
      ]
     },
     "execution_count": 196,
     "metadata": {},
     "output_type": "execute_result"
    }
   ],
   "source": [
    "ranking_data.head(3)"
   ]
  },
  {
   "cell_type": "code",
   "execution_count": 200,
   "id": "8390f501",
   "metadata": {},
   "outputs": [
    {
     "data": {
      "text/plain": [
       "Index(['user_id', 'candidate_article_id', 'clicked_x', 'click_article_id',\n",
       "       'session_size', 'click_environment', 'click_deviceGroup', 'click_os',\n",
       "       'click_country', 'click_referrer_type', 'time_diff'],\n",
       "      dtype='object')"
      ]
     },
     "execution_count": 200,
     "metadata": {},
     "output_type": "execute_result"
    }
   ],
   "source": [
    "ranking_data = ranking_data.drop(columns=['clicked_y', 'click_timestamp'])\n",
    "ranking_data = ranking_data.rename(columns={'clicked_x': 'clicked'})\n",
    "ranking_data.head(3)"
   ]
  },
  {
   "cell_type": "code",
   "execution_count": 204,
   "id": "1dd0ed12",
   "metadata": {},
   "outputs": [],
   "source": [
    "# save ranking data to a pickle file\n",
    "ranking_data.to_csv('ranking_data_2.csv')"
   ]
  },
  {
   "cell_type": "code",
   "execution_count": 211,
   "id": "d23e8e5a",
   "metadata": {},
   "outputs": [
    {
     "data": {
      "text/plain": [
       "0    9391\n",
       "1      10\n",
       "Name: clicked, dtype: int64"
      ]
     },
     "execution_count": 211,
     "metadata": {},
     "output_type": "execute_result"
    }
   ],
   "source": [
    "ranking_data['clicked'].value_counts()"
   ]
  },
  {
   "cell_type": "code",
   "execution_count": 2,
   "id": "e9f381bc",
   "metadata": {},
   "outputs": [
    {
     "data": {
      "text/plain": [
       "0    9391\n",
       "1      10\n",
       "Name: clicked, dtype: int64"
      ]
     },
     "execution_count": 2,
     "metadata": {},
     "output_type": "execute_result"
    }
   ],
   "source": [
    "ranking_data = pd.read_csv('/Users/renatoboemer/Desktop/ranking_data.csv')\n",
    "ranking_data['clicked'].value_counts()"
   ]
  },
  {
   "cell_type": "code",
   "execution_count": 3,
   "id": "d1f45f07",
   "metadata": {},
   "outputs": [],
   "source": [
    "# define X and y\n",
    "X = ranking_data.drop(columns=['clicked'])\n",
    "y = ranking_data['clicked']\n",
    "\n",
    "# apply SMOTE to balance the dataset for training\n",
    "smote = SMOTE(random_state=15)\n",
    "X_resampled, y_resampled = smote.fit_resample(X, y)\n",
    "\n",
    "# create a new df with the resampled data\n",
    "resampled_data = pd.DataFrame(X_resampled, columns=X.columns)\n",
    "resampled_data['clicked'] = y_resampled\n"
   ]
  },
  {
   "cell_type": "code",
   "execution_count": 4,
   "id": "2256d5ca",
   "metadata": {},
   "outputs": [
    {
     "data": {
      "image/png": "[encoded data removed]",
      "text/plain": [
       "<Figure size 400x300 with 1 Axes>"
      ]
     },
     "metadata": {},
     "output_type": "display_data"
    }
   ],
   "source": [
    "# Getting the value counts for the 'clicked' column\n",
    "clicked_counts = resampled_data['clicked'].value_counts()\n",
    "\n",
    "plt.figure(figsize=(4, 3))\n",
    "clicked_counts.plot(kind='bar')\n",
    "plt.title('Counts of Clicked Values')\n",
    "plt.xlabel('Clicked')\n",
    "plt.ylabel('Count');"
   ]
  },
  {
   "cell_type": "code",
   "execution_count": 8,
   "id": "9f7f2afd",
   "metadata": {},
   "outputs": [],
   "source": [
    "# prepare features and label\n",
    "features = ['user_id', 'candidate_article_id', 'click_article_id',\n",
    "            'session_size', 'click_environment', 'click_deviceGroup', \n",
    "            'click_os', 'click_country', 'click_referrer_type',\n",
    "            'time_diff']\n",
    "\n",
    "label = 'clicked'"
   ]
  },
  {
   "cell_type": "code",
   "execution_count": 28,
   "id": "c454bfb4",
   "metadata": {},
   "outputs": [],
   "source": [
    "# train-test split\n",
    "train_data, test_data = train_test_split(resampled_data, test_size=0.1,\n",
    "                                         random_state=15,\n",
    "                                         stratify=resampled_data[label])\n",
    "\n",
    "X_train = train_data[features]\n",
    "y_train = train_data[label]\n",
    "X_test = test_data[features]\n",
    "y_test = test_data[label]\n",
    "\n",
    "# feature scaling\n",
    "scaler = StandardScaler()\n",
    "X_train_scaled = scaler.fit_transform(X_train)\n",
    "X_test_scaled = scaler.transform(X_test)\n",
    "\n",
    "# convert to DMatrix\n",
    "dtrain = xgb.DMatrix(X_train_scaled, label=y_train)\n",
    "dtest = xgb.DMatrix(X_test_scaled, label=y_test)"
   ]
  },
  {
   "cell_type": "code",
   "execution_count": 29,
   "id": "13897188",
   "metadata": {},
   "outputs": [],
   "source": [
    "# define parameters\n",
    "params = {\n",
    "    'max_depth': 3,\n",
    "    'learning_rate': 0.01,\n",
    "    'objective': 'rank:pairwise',\n",
    "    'eval_metric': 'ndcg'\n",
    "}"
   ]
  },
  {
   "cell_type": "code",
   "execution_count": 30,
   "id": "c4447261",
   "metadata": {},
   "outputs": [
    {
     "name": "stderr",
     "output_type": "stream",
     "text": [
      "/var/folders/0z/4gxpxvr90sg_nm735wh2pcw00000gn/T/ipykernel_98523/841545740.py:10: SettingWithCopyWarning: \n",
      "A value is trying to be set on a copy of a slice from a DataFrame.\n",
      "Try using .loc[row_indexer,col_indexer] = value instead\n",
      "\n",
      "See the caveats in the documentation: https://pandas.pydata.org/pandas-docs/stable/user_guide/indexing.html#returning-a-view-versus-a-copy\n",
      "  X_test['predicted_score'] = y_pred\n"
     ]
    },
    {
     "data": {
      "text/html": [
       "<div>\n",
       "<style scoped>\n",
       "    .dataframe tbody tr th:only-of-type {\n",
       "        vertical-align: middle;\n",
       "    }\n",
       "\n",
       "    .dataframe tbody tr th {\n",
       "        vertical-align: top;\n",
       "    }\n",
       "\n",
       "    .dataframe thead th {\n",
       "        text-align: right;\n",
       "    }\n",
       "</style>\n",
       "<table border=\"1\" class=\"dataframe\">\n",
       "  <thead>\n",
       "    <tr style=\"text-align: right;\">\n",
       "      <th></th>\n",
       "      <th>user_id</th>\n",
       "      <th>candidate_article_id</th>\n",
       "      <th>predicted_prob</th>\n",
       "    </tr>\n",
       "  </thead>\n",
       "  <tbody>\n",
       "    <tr>\n",
       "      <th>2852</th>\n",
       "      <td>24</td>\n",
       "      <td>157077</td>\n",
       "      <td>0.030966</td>\n",
       "    </tr>\n",
       "    <tr>\n",
       "      <th>8738</th>\n",
       "      <td>52</td>\n",
       "      <td>162338</td>\n",
       "      <td>0.032858</td>\n",
       "    </tr>\n",
       "    <tr>\n",
       "      <th>7586</th>\n",
       "      <td>140</td>\n",
       "      <td>118683</td>\n",
       "      <td>0.066217</td>\n",
       "    </tr>\n",
       "    <tr>\n",
       "      <th>1084</th>\n",
       "      <td>255</td>\n",
       "      <td>285435</td>\n",
       "      <td>0.359909</td>\n",
       "    </tr>\n",
       "    <tr>\n",
       "      <th>3687</th>\n",
       "      <td>300</td>\n",
       "      <td>161858</td>\n",
       "      <td>0.055178</td>\n",
       "    </tr>\n",
       "  </tbody>\n",
       "</table>\n",
       "</div>"
      ],
      "text/plain": [
       "      user_id  candidate_article_id  predicted_prob\n",
       "2852       24                157077        0.030966\n",
       "8738       52                162338        0.032858\n",
       "7586      140                118683        0.066217\n",
       "1084      255                285435        0.359909\n",
       "3687      300                161858        0.055178"
      ]
     },
     "execution_count": 30,
     "metadata": {},
     "output_type": "execute_result"
    }
   ],
   "source": [
    "from scipy.special import expit\n",
    "\n",
    "# Predict scores\n",
    "y_pred = model.predict(dtest)\n",
    "\n",
    "# Apply logistic transformation to get probabilities\n",
    "y_pred_prob = expit(y_pred)\n",
    "\n",
    "# Add predictions to the test set\n",
    "X_test['predicted_score'] = y_pred\n",
    "X_test['predicted_prob'] = y_pred_prob\n",
    "\n",
    "# Add user_id and item_id back to the test set\n",
    "X_test['user_id'] = resampled_data.loc[X_test.index, 'user_id']\n",
    "X_test['candidate_article_id'] = resampled_data.loc[X_test.index, 'candidate_article_id']\n",
    "\n",
    "# Rank items for each user based on predicted probabilities\n",
    "ranked_articles = X_test.sort_values(by=['user_id', 'predicted_prob'], ascending=[True, False])\n",
    "\n",
    "# Extract top N articles for each user\n",
    "top_n = 5  # Set the number of top articles you want to extract\n",
    "top_articles_per_user = ranked_articles.groupby('user_id').head(top_n)\n",
    "\n",
    "# Extract user_id, item_id, and predicted_prob columns for the final top articles\n",
    "top_articles = top_articles_per_user[['user_id', 'candidate_article_id', 'predicted_prob']]\n",
    "\n",
    "# Print or return the top articles per user with predicted probabilities\n",
    "top_articles.head()"
   ]
  },
  {
   "cell_type": "code",
   "execution_count": 32,
   "id": "a7681d66",
   "metadata": {},
   "outputs": [],
   "source": [
    "# save the model\n",
    "model.save_model('xgboost_recommender_2.model')"
   ]
  },
  {
   "cell_type": "markdown",
   "id": "6283a438",
   "metadata": {},
   "source": [
    "# Evaluation"
   ]
  },
  {
   "cell_type": "markdown",
   "id": "5023ad76",
   "metadata": {},
   "source": [
    "Let's check the model's performance using the Normalised Discounted Cumulative Gain (`NDCG`) score. This measure evaluates the quality of a ranking system and it is useful particularly for recommender systems because it the order of the returned results is important."
   ]
  },
  {
   "cell_type": "code",
   "execution_count": 31,
   "id": "52d2911b",
   "metadata": {},
   "outputs": [
    {
     "name": "stdout",
     "output_type": "stream",
     "text": [
      "NDCG score: 0.9626973760895133\n"
     ]
    }
   ],
   "source": [
    "# check NDCG score\n",
    "from sklearn.metrics import ndcg_score\n",
    "ndcg = ndcg_score([y_test], [y_pred])\n",
    "print(f'NDCG score: {ndcg}')"
   ]
  },
  {
   "cell_type": "markdown",
   "id": "bf1cd25d",
   "metadata": {},
   "source": [
    "**Conclusion**"
   ]
  },
  {
   "cell_type": "markdown",
   "id": "2e07947e",
   "metadata": {},
   "source": [
    "The `NDCG` score of `0.9626` is **very high**, clearly indicating that the model is overfitting. Most likely, the overfitting is due to the use of a small dataset. The model might be learning the specific examples or noise rather than learning a pattern that helps to generalise well. To assess the model's true performance, it would be crucial to train and evaluate it on larger datasets."
   ]
  },
  {
   "cell_type": "code",
   "execution_count": null,
   "id": "e0f8e809",
   "metadata": {},
   "outputs": [],
   "source": []
  }
 ],
 "metadata": {
  "kernelspec": {
   "display_name": "Python 3 (ipykernel)",
   "language": "python",
   "name": "python3"
  },
  "language_info": {
   "codemirror_mode": {
    "name": "ipython",
    "version": 3
   },
   "file_extension": ".py",
   "mimetype": "text/x-python",
   "name": "python",
   "nbconvert_exporter": "python",
   "pygments_lexer": "ipython3",
   "version": "3.10.6"
  },
  "toc": {
   "base_numbering": 1,
   "nav_menu": {},
   "number_sections": true,
   "sideBar": true,
   "skip_h1_title": false,
   "title_cell": "Table of Contents",
   "title_sidebar": "Contents",
   "toc_cell": false,
   "toc_position": {},
   "toc_section_display": true,
   "toc_window_display": false
  }
 },
 "nbformat": 4,
 "nbformat_minor": 5
}
